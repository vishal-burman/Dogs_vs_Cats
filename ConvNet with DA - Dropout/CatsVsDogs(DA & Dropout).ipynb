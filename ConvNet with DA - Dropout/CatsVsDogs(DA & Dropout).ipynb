{
 "cells": [
  {
   "cell_type": "code",
   "execution_count": 1,
   "metadata": {},
   "outputs": [],
   "source": [
    "#Author-Vishal Burman"
   ]
  },
  {
   "cell_type": "code",
   "execution_count": 2,
   "metadata": {},
   "outputs": [],
   "source": [
    "#Importing the relevant libraries\n",
    "\n",
    "import os, shutil\n",
    "from keras.preprocessing.image import ImageDataGenerator\n",
    "from keras.preprocessing import image\n",
    "import matplotlib.pyplot as plt\n",
    "from keras.models import Sequential\n",
    "from keras.layers import Dense, Conv2D, MaxPooling2D, Flatten, Dropout\n",
    "from keras.optimizers import adam"
   ]
  },
  {
   "cell_type": "code",
   "execution_count": 4,
   "metadata": {},
   "outputs": [],
   "source": [
    "#Specify the base directory\n",
    "\n",
    "base_dir=\"cats_and_dog_small/\""
   ]
  },
  {
   "cell_type": "code",
   "execution_count": 6,
   "metadata": {},
   "outputs": [],
   "source": [
    "#Specifying the Training, Validation and Test directory\n",
    "\n",
    "train_dir=os.path.join(base_dir, 'train')\n",
    "validation_dir=os.path.join(base_dir, 'valid')\n",
    "test_dir=os.path.join(base_dir, 'test')\n",
    "\n",
    "train_cats_dir=os.path.join(train_dir, 'cats')\n",
    "train_dogs_dir=os.path.join(train_dir, 'dogs')\n",
    "\n",
    "validation_cats_dir=os.path.join(validation_dir, 'cats')\n",
    "validation_dogs_dir=os.path.join(validation_dir, 'dogs')\n",
    "\n",
    "test_cats_dir=os.path.join(test_dir, 'cats')\n",
    "test_dogs_dir=os.path.join(test_dir, 'dogs')"
   ]
  },
  {
   "cell_type": "code",
   "execution_count": 9,
   "metadata": {},
   "outputs": [],
   "source": [
    "#Setting up a Data Augmentation configuration via ImageDataGenerator\n",
    "\n",
    "datagen=ImageDataGenerator(rotation_range=40, width_shift_range=0.2, height_shift_range=0.2, shear_range=0.2, zoom_range=0.2, horizontal_flip=True, fill_mode='nearest')"
   ]
  },
  {
   "cell_type": "code",
   "execution_count": 11,
   "metadata": {},
   "outputs": [],
   "source": [
    "#Displaying some randomly augmented Training images\n",
    "\n",
    "fnames=[os.path.join(train_cats_dir, fname) for fname in os.listdir(train_cats_dir)]\n",
    "\n",
    "img_path=fnames[4]\n",
    "\n",
    "img=image.load_img(img_path, target_size=(150, 150))\n",
    "x=image.img_to_array(img)\n",
    "x=x.reshape((1,)+x.shape)\n",
    "\n",
    "i=0\n",
    "for batch in datagen.flow(x, batch_size=1):\n",
    "    plt.figure(i)\n",
    "    imgplot=plt.imshow(image.array_to_img(batch[0]))\n",
    "    i+=1\n",
    "    if i%4==0:\n",
    "        break\n",
    "plt.show()"
   ]
  },
  {
   "cell_type": "code",
   "execution_count": 13,
   "metadata": {},
   "outputs": [],
   "source": [
    "#Defining a new ConvNet which includes Dropout"
   ]
  },
  {
   "cell_type": "code",
   "execution_count": 14,
   "metadata": {},
   "outputs": [],
   "source": [
    "model=Sequential()\n",
    "model.add(Conv2D(32, (3, 3), activation='relu', input_shape=(150, 150, 3)))\n",
    "model.add(MaxPooling2D((2, 2)))\n",
    "model.add(Conv2D(64, (3, 3), activation='relu'))\n",
    "model.add(MaxPooling2D((2, 2)))\n",
    "model.add(Conv2D(128, (3, 3), activation='relu'))\n",
    "model.add(MaxPooling2D((2, 2)))\n",
    "model.add(Conv2D(128, (3, 3), activation='relu'))\n",
    "model.add(MaxPooling2D((2, 2)))\n",
    "model.add(Flatten())\n",
    "model.add(Dropout(0.5))\n",
    "model.add(Dense(512, activation='relu'))\n",
    "model.add(Dense(1, activation='sigmoid'))"
   ]
  },
  {
   "cell_type": "code",
   "execution_count": 15,
   "metadata": {},
   "outputs": [],
   "source": [
    "#Compiling the above model"
   ]
  },
  {
   "cell_type": "code",
   "execution_count": 16,
   "metadata": {},
   "outputs": [],
   "source": [
    "model.compile(loss='binary_crossentropy', optimizer='adam', metrics=['accuracy'])"
   ]
  },
  {
   "cell_type": "code",
   "execution_count": 17,
   "metadata": {},
   "outputs": [],
   "source": [
    "#Training the ConvNet using Data-Augmentation generators"
   ]
  },
  {
   "cell_type": "code",
   "execution_count": 18,
   "metadata": {},
   "outputs": [
    {
     "name": "stdout",
     "output_type": "stream",
     "text": [
      "Found 2000 images belonging to 2 classes.\n",
      "Found 1000 images belonging to 2 classes.\n",
      "Epoch 1/100\n",
      "100/100 [==============================] - 13s 128ms/step - loss: 0.6946 - acc: 0.5225 - val_loss: 0.7029 - val_acc: 0.4975\n",
      "Epoch 2/100\n",
      "100/100 [==============================] - 9s 85ms/step - loss: 0.6907 - acc: 0.5166 - val_loss: 0.6924 - val_acc: 0.5254\n",
      "Epoch 3/100\n",
      "100/100 [==============================] - 8s 81ms/step - loss: 0.6761 - acc: 0.5597 - val_loss: 0.6685 - val_acc: 0.5615\n",
      "Epoch 4/100\n",
      "100/100 [==============================] - 9s 86ms/step - loss: 0.6592 - acc: 0.5984 - val_loss: 0.6751 - val_acc: 0.6085\n",
      "Epoch 5/100\n",
      "100/100 [==============================] - 8s 81ms/step - loss: 0.6541 - acc: 0.6044 - val_loss: 0.6199 - val_acc: 0.6675\n",
      "Epoch 6/100\n",
      "100/100 [==============================] - 9s 86ms/step - loss: 0.6249 - acc: 0.6484 - val_loss: 0.6527 - val_acc: 0.6497\n",
      "Epoch 7/100\n",
      "100/100 [==============================] - 9s 86ms/step - loss: 0.6282 - acc: 0.6428 - val_loss: 0.6742 - val_acc: 0.6371\n",
      "Epoch 8/100\n",
      "100/100 [==============================] - 8s 82ms/step - loss: 0.6099 - acc: 0.6650 - val_loss: 0.6299 - val_acc: 0.6371\n",
      "Epoch 9/100\n",
      "100/100 [==============================] - 9s 86ms/step - loss: 0.6107 - acc: 0.6559 - val_loss: 0.6408 - val_acc: 0.6586\n",
      "Epoch 10/100\n",
      "100/100 [==============================] - 8s 82ms/step - loss: 0.5785 - acc: 0.6903 - val_loss: 0.6175 - val_acc: 0.6783\n",
      "Epoch 11/100\n",
      "100/100 [==============================] - 9s 86ms/step - loss: 0.5906 - acc: 0.6853 - val_loss: 0.6047 - val_acc: 0.6815\n",
      "Epoch 12/100\n",
      "100/100 [==============================] - 9s 86ms/step - loss: 0.5647 - acc: 0.7056 - val_loss: 0.5715 - val_acc: 0.7075\n",
      "Epoch 13/100\n",
      "100/100 [==============================] - 8s 83ms/step - loss: 0.5626 - acc: 0.7169 - val_loss: 0.5786 - val_acc: 0.6942\n",
      "Epoch 14/100\n",
      "100/100 [==============================] - 9s 87ms/step - loss: 0.5472 - acc: 0.7156 - val_loss: 0.5385 - val_acc: 0.7430\n",
      "Epoch 15/100\n",
      "100/100 [==============================] - 8s 82ms/step - loss: 0.5496 - acc: 0.7225 - val_loss: 0.5928 - val_acc: 0.7049\n",
      "Epoch 16/100\n",
      "100/100 [==============================] - 9s 87ms/step - loss: 0.5438 - acc: 0.7219 - val_loss: 0.5568 - val_acc: 0.7487\n",
      "Epoch 17/100\n",
      "100/100 [==============================] - 8s 81ms/step - loss: 0.5473 - acc: 0.7128 - val_loss: 0.5648 - val_acc: 0.7018\n",
      "Epoch 18/100\n",
      "100/100 [==============================] - 9s 88ms/step - loss: 0.5269 - acc: 0.7297 - val_loss: 0.5952 - val_acc: 0.7170\n",
      "Epoch 19/100\n",
      "100/100 [==============================] - 9s 87ms/step - loss: 0.5490 - acc: 0.7184 - val_loss: 0.5295 - val_acc: 0.7443\n",
      "Epoch 20/100\n",
      "100/100 [==============================] - 8s 83ms/step - loss: 0.5162 - acc: 0.7506 - val_loss: 0.5227 - val_acc: 0.7506\n",
      "Epoch 21/100\n",
      "100/100 [==============================] - 9s 87ms/step - loss: 0.5147 - acc: 0.7428 - val_loss: 0.5357 - val_acc: 0.7481\n",
      "Epoch 22/100\n",
      "100/100 [==============================] - 8s 83ms/step - loss: 0.5073 - acc: 0.7528 - val_loss: 0.4883 - val_acc: 0.7843\n",
      "Epoch 23/100\n",
      "100/100 [==============================] - 9s 87ms/step - loss: 0.5161 - acc: 0.7531 - val_loss: 0.5081 - val_acc: 0.7602\n",
      "Epoch 24/100\n",
      "100/100 [==============================] - 9s 87ms/step - loss: 0.5026 - acc: 0.7578 - val_loss: 0.4982 - val_acc: 0.7722\n",
      "Epoch 25/100\n",
      "100/100 [==============================] - 8s 83ms/step - loss: 0.4989 - acc: 0.7584 - val_loss: 0.5374 - val_acc: 0.7398\n",
      "Epoch 26/100\n",
      "100/100 [==============================] - 9s 87ms/step - loss: 0.4724 - acc: 0.7787 - val_loss: 0.5102 - val_acc: 0.7652\n",
      "Epoch 27/100\n",
      "100/100 [==============================] - 8s 83ms/step - loss: 0.4687 - acc: 0.7766 - val_loss: 0.4820 - val_acc: 0.7773\n",
      "Epoch 28/100\n",
      "100/100 [==============================] - 9s 88ms/step - loss: 0.4606 - acc: 0.7763 - val_loss: 0.5708 - val_acc: 0.7354\n",
      "Epoch 29/100\n",
      "100/100 [==============================] - 9s 87ms/step - loss: 0.4626 - acc: 0.7791 - val_loss: 0.4728 - val_acc: 0.7893\n",
      "Epoch 30/100\n",
      "100/100 [==============================] - 8s 84ms/step - loss: 0.4690 - acc: 0.7722 - val_loss: 0.5223 - val_acc: 0.7354\n",
      "Epoch 31/100\n",
      "100/100 [==============================] - 9s 88ms/step - loss: 0.4522 - acc: 0.7822 - val_loss: 0.4875 - val_acc: 0.7747\n",
      "Epoch 32/100\n",
      "100/100 [==============================] - 8s 84ms/step - loss: 0.4531 - acc: 0.7913 - val_loss: 0.4744 - val_acc: 0.7697\n",
      "Epoch 33/100\n",
      "100/100 [==============================] - 9s 89ms/step - loss: 0.4346 - acc: 0.7956 - val_loss: 0.4864 - val_acc: 0.7811\n",
      "Epoch 34/100\n",
      "100/100 [==============================] - 8s 82ms/step - loss: 0.4436 - acc: 0.7925 - val_loss: 0.4740 - val_acc: 0.7887\n",
      "Epoch 35/100\n",
      "100/100 [==============================] - 9s 88ms/step - loss: 0.4420 - acc: 0.7984 - val_loss: 0.4614 - val_acc: 0.8008\n",
      "Epoch 36/100\n",
      "100/100 [==============================] - 9s 88ms/step - loss: 0.4186 - acc: 0.7994 - val_loss: 0.4502 - val_acc: 0.7925\n",
      "Epoch 37/100\n",
      "100/100 [==============================] - 8s 83ms/step - loss: 0.4270 - acc: 0.8072 - val_loss: 0.5018 - val_acc: 0.7836\n",
      "Epoch 38/100\n",
      "100/100 [==============================] - 9s 88ms/step - loss: 0.4119 - acc: 0.8103 - val_loss: 0.4668 - val_acc: 0.7957\n",
      "Epoch 39/100\n",
      "100/100 [==============================] - 8s 82ms/step - loss: 0.4281 - acc: 0.8022 - val_loss: 0.4304 - val_acc: 0.8128\n",
      "Epoch 40/100\n",
      "100/100 [==============================] - 9s 88ms/step - loss: 0.3990 - acc: 0.8228 - val_loss: 0.4457 - val_acc: 0.8103\n",
      "Epoch 41/100\n",
      "100/100 [==============================] - 9s 87ms/step - loss: 0.3891 - acc: 0.8297 - val_loss: 0.4442 - val_acc: 0.8103\n",
      "Epoch 42/100\n",
      "100/100 [==============================] - 8s 83ms/step - loss: 0.3930 - acc: 0.8228 - val_loss: 0.4831 - val_acc: 0.7989\n",
      "Epoch 43/100\n",
      "100/100 [==============================] - 9s 88ms/step - loss: 0.3780 - acc: 0.8334 - val_loss: 0.4195 - val_acc: 0.8280\n",
      "Epoch 44/100\n",
      "100/100 [==============================] - 8s 83ms/step - loss: 0.3922 - acc: 0.8219 - val_loss: 0.4491 - val_acc: 0.8096\n",
      "Epoch 45/100\n",
      "100/100 [==============================] - 10s 96ms/step - loss: 0.3687 - acc: 0.8334 - val_loss: 0.5028 - val_acc: 0.7970\n",
      "Epoch 46/100\n",
      "100/100 [==============================] - 9s 92ms/step - loss: 0.3649 - acc: 0.8469 - val_loss: 0.4344 - val_acc: 0.8179\n",
      "Epoch 47/100\n",
      "100/100 [==============================] - 9s 91ms/step - loss: 0.3546 - acc: 0.8478 - val_loss: 0.3832 - val_acc: 0.8319\n",
      "Epoch 48/100\n",
      "100/100 [==============================] - 9s 92ms/step - loss: 0.3473 - acc: 0.8444 - val_loss: 0.4861 - val_acc: 0.8077\n",
      "Epoch 49/100\n",
      "100/100 [==============================] - 9s 92ms/step - loss: 0.3591 - acc: 0.8444 - val_loss: 0.4153 - val_acc: 0.8376\n",
      "Epoch 50/100\n",
      "100/100 [==============================] - 10s 95ms/step - loss: 0.3320 - acc: 0.8538 - val_loss: 0.4265 - val_acc: 0.8299\n",
      "Epoch 51/100\n",
      "100/100 [==============================] - 9s 88ms/step - loss: 0.3452 - acc: 0.8500 - val_loss: 0.4157 - val_acc: 0.8299\n",
      "Epoch 52/100\n",
      "100/100 [==============================] - 9s 95ms/step - loss: 0.3235 - acc: 0.8562 - val_loss: 0.4149 - val_acc: 0.8299\n",
      "Epoch 53/100\n",
      "100/100 [==============================] - 9s 94ms/step - loss: 0.3363 - acc: 0.8563 - val_loss: 0.4103 - val_acc: 0.8344\n",
      "Epoch 54/100\n",
      "100/100 [==============================] - 9s 90ms/step - loss: 0.3190 - acc: 0.8562 - val_loss: 0.4541 - val_acc: 0.8306\n",
      "Epoch 55/100\n",
      "100/100 [==============================] - 10s 96ms/step - loss: 0.3052 - acc: 0.8675 - val_loss: 0.4489 - val_acc: 0.8255\n",
      "Epoch 56/100\n",
      "100/100 [==============================] - 9s 89ms/step - loss: 0.3285 - acc: 0.8606 - val_loss: 0.4202 - val_acc: 0.8369\n",
      "Epoch 57/100\n",
      "100/100 [==============================] - 9s 94ms/step - loss: 0.3178 - acc: 0.8628 - val_loss: 0.4708 - val_acc: 0.8287\n",
      "Epoch 58/100\n",
      "100/100 [==============================] - 9s 92ms/step - loss: 0.3092 - acc: 0.8672 - val_loss: 0.4703 - val_acc: 0.8312\n",
      "Epoch 59/100\n",
      "100/100 [==============================] - 9s 89ms/step - loss: 0.2956 - acc: 0.8678 - val_loss: 0.4079 - val_acc: 0.8433\n",
      "Epoch 60/100\n",
      "100/100 [==============================] - 9s 95ms/step - loss: 0.2957 - acc: 0.8741 - val_loss: 0.4080 - val_acc: 0.8223\n",
      "Epoch 61/100\n"
     ]
    },
    {
     "name": "stdout",
     "output_type": "stream",
     "text": [
      "100/100 [==============================] - 9s 91ms/step - loss: 0.2806 - acc: 0.8787 - val_loss: 0.4610 - val_acc: 0.8344\n",
      "Epoch 62/100\n",
      "100/100 [==============================] - 9s 88ms/step - loss: 0.2844 - acc: 0.8819 - val_loss: 0.4740 - val_acc: 0.8274\n",
      "Epoch 63/100\n",
      "100/100 [==============================] - 9s 87ms/step - loss: 0.2907 - acc: 0.8756 - val_loss: 0.4697 - val_acc: 0.8312\n",
      "Epoch 64/100\n",
      "100/100 [==============================] - 8s 84ms/step - loss: 0.2822 - acc: 0.8772 - val_loss: 0.3980 - val_acc: 0.8331\n",
      "Epoch 65/100\n",
      "100/100 [==============================] - 9s 88ms/step - loss: 0.2702 - acc: 0.8869 - val_loss: 0.4649 - val_acc: 0.7989\n",
      "Epoch 66/100\n",
      "100/100 [==============================] - 8s 84ms/step - loss: 0.2655 - acc: 0.8835 - val_loss: 0.4648 - val_acc: 0.8299\n",
      "Epoch 67/100\n",
      "100/100 [==============================] - 9s 88ms/step - loss: 0.2627 - acc: 0.8841 - val_loss: 0.4577 - val_acc: 0.8344\n",
      "Epoch 68/100\n",
      "100/100 [==============================] - 9s 87ms/step - loss: 0.2653 - acc: 0.8900 - val_loss: 0.4269 - val_acc: 0.8363\n",
      "Epoch 69/100\n",
      "100/100 [==============================] - 9s 90ms/step - loss: 0.2732 - acc: 0.8853 - val_loss: 0.5106 - val_acc: 0.8192\n",
      "Epoch 70/100\n",
      "100/100 [==============================] - 9s 91ms/step - loss: 0.2455 - acc: 0.9022 - val_loss: 0.5175 - val_acc: 0.8160\n",
      "Epoch 71/100\n",
      "100/100 [==============================] - 8s 84ms/step - loss: 0.2459 - acc: 0.9006 - val_loss: 0.4589 - val_acc: 0.8211\n",
      "Epoch 72/100\n",
      "100/100 [==============================] - 9s 94ms/step - loss: 0.2438 - acc: 0.8906 - val_loss: 0.4515 - val_acc: 0.8185\n",
      "Epoch 73/100\n",
      "100/100 [==============================] - 8s 84ms/step - loss: 0.2446 - acc: 0.8997 - val_loss: 0.4291 - val_acc: 0.8363\n",
      "Epoch 74/100\n",
      "100/100 [==============================] - 9s 87ms/step - loss: 0.2421 - acc: 0.8959 - val_loss: 0.5075 - val_acc: 0.8344\n",
      "Epoch 75/100\n",
      "100/100 [==============================] - 9s 88ms/step - loss: 0.2587 - acc: 0.8869 - val_loss: 0.4252 - val_acc: 0.8299\n",
      "Epoch 76/100\n",
      "100/100 [==============================] - 8s 83ms/step - loss: 0.2215 - acc: 0.9063 - val_loss: 0.4725 - val_acc: 0.8217\n",
      "Epoch 77/100\n",
      "100/100 [==============================] - 9s 86ms/step - loss: 0.2253 - acc: 0.9028 - val_loss: 0.4871 - val_acc: 0.8261\n",
      "Epoch 78/100\n",
      "100/100 [==============================] - 8s 83ms/step - loss: 0.2445 - acc: 0.8947 - val_loss: 0.4316 - val_acc: 0.8464\n",
      "Epoch 79/100\n",
      "100/100 [==============================] - 9s 86ms/step - loss: 0.2293 - acc: 0.9019 - val_loss: 0.4479 - val_acc: 0.8420\n",
      "Epoch 80/100\n",
      "100/100 [==============================] - 8s 83ms/step - loss: 0.2175 - acc: 0.9075 - val_loss: 0.5294 - val_acc: 0.8249\n",
      "Epoch 81/100\n",
      "100/100 [==============================] - 9s 89ms/step - loss: 0.2367 - acc: 0.9022 - val_loss: 0.5480 - val_acc: 0.8077\n",
      "Epoch 82/100\n",
      "100/100 [==============================] - 9s 91ms/step - loss: 0.2263 - acc: 0.9003 - val_loss: 0.4409 - val_acc: 0.8249\n",
      "Epoch 83/100\n",
      "100/100 [==============================] - 8s 85ms/step - loss: 0.2301 - acc: 0.9047 - val_loss: 0.4113 - val_acc: 0.8445\n",
      "Epoch 84/100\n",
      "100/100 [==============================] - 9s 90ms/step - loss: 0.2140 - acc: 0.9034 - val_loss: 0.4335 - val_acc: 0.8293\n",
      "Epoch 85/100\n",
      "100/100 [==============================] - 8s 85ms/step - loss: 0.2147 - acc: 0.9091 - val_loss: 0.4620 - val_acc: 0.8376\n",
      "Epoch 86/100\n",
      "100/100 [==============================] - 9s 90ms/step - loss: 0.2149 - acc: 0.9094 - val_loss: 0.4460 - val_acc: 0.8452\n",
      "Epoch 87/100\n",
      "100/100 [==============================] - 9s 88ms/step - loss: 0.2162 - acc: 0.9131 - val_loss: 0.5208 - val_acc: 0.8299\n",
      "Epoch 88/100\n",
      "100/100 [==============================] - 9s 85ms/step - loss: 0.2104 - acc: 0.9084 - val_loss: 0.4154 - val_acc: 0.8388\n",
      "Epoch 89/100\n",
      "100/100 [==============================] - 9s 89ms/step - loss: 0.1979 - acc: 0.9184 - val_loss: 0.4940 - val_acc: 0.8477\n",
      "Epoch 90/100\n",
      "100/100 [==============================] - 8s 83ms/step - loss: 0.2453 - acc: 0.8928 - val_loss: 0.4463 - val_acc: 0.8503\n",
      "Epoch 91/100\n",
      "100/100 [==============================] - 9s 90ms/step - loss: 0.1987 - acc: 0.9163 - val_loss: 0.4438 - val_acc: 0.8509\n",
      "Epoch 92/100\n",
      "100/100 [==============================] - 9s 89ms/step - loss: 0.1919 - acc: 0.9241 - val_loss: 0.4573 - val_acc: 0.8610\n",
      "Epoch 93/100\n",
      "100/100 [==============================] - 9s 87ms/step - loss: 0.1850 - acc: 0.9222 - val_loss: 0.5198 - val_acc: 0.8522\n",
      "Epoch 94/100\n",
      "100/100 [==============================] - 9s 92ms/step - loss: 0.1930 - acc: 0.9159 - val_loss: 0.4669 - val_acc: 0.8484\n",
      "Epoch 95/100\n",
      "100/100 [==============================] - 9s 89ms/step - loss: 0.1866 - acc: 0.9191 - val_loss: 0.5292 - val_acc: 0.8401\n",
      "Epoch 96/100\n",
      "100/100 [==============================] - 9s 94ms/step - loss: 0.1921 - acc: 0.9181 - val_loss: 0.5474 - val_acc: 0.8274\n",
      "Epoch 97/100\n",
      "100/100 [==============================] - 8s 84ms/step - loss: 0.2187 - acc: 0.9094 - val_loss: 0.4544 - val_acc: 0.8433\n",
      "Epoch 98/100\n",
      "100/100 [==============================] - 9s 91ms/step - loss: 0.1869 - acc: 0.9247 - val_loss: 0.4704 - val_acc: 0.8515\n",
      "Epoch 99/100\n",
      "100/100 [==============================] - 9s 88ms/step - loss: 0.1952 - acc: 0.9147 - val_loss: 0.4678 - val_acc: 0.8426\n",
      "Epoch 100/100\n",
      "100/100 [==============================] - 9s 86ms/step - loss: 0.1895 - acc: 0.9206 - val_loss: 0.4741 - val_acc: 0.8401\n"
     ]
    }
   ],
   "source": [
    "train_datagen=ImageDataGenerator(rescale=1./255, rotation_range=40, width_shift_range=0.2, height_shift_range=0.2, shear_range=0.2, zoom_range=0.2, horizontal_flip=True)\n",
    "\n",
    "test_datagen=ImageDataGenerator(rescale=1./255)\n",
    "\n",
    "train_generator=train_datagen.flow_from_directory(train_dir, target_size=(150, 150), batch_size=32, class_mode='binary')\n",
    "\n",
    "validation_generator=test_datagen.flow_from_directory(test_dir, target_size=(150, 150), batch_size=32, class_mode='binary')\n",
    "\n",
    "history=model.fit_generator(train_generator, steps_per_epoch=100, epochs=100, validation_data=validation_generator, validation_steps=50, workers=8)"
   ]
  },
  {
   "cell_type": "code",
   "execution_count": 19,
   "metadata": {},
   "outputs": [],
   "source": [
    "#Saving the model"
   ]
  },
  {
   "cell_type": "code",
   "execution_count": 20,
   "metadata": {},
   "outputs": [],
   "source": [
    "model.save(\"CatsVsDogs_2.h5\")"
   ]
  },
  {
   "cell_type": "code",
   "execution_count": 21,
   "metadata": {},
   "outputs": [
    {
     "data": {
      "text/plain": [
       "<matplotlib.legend.Legend at 0x1dc05725470>"
      ]
     },
     "execution_count": 21,
     "metadata": {},
     "output_type": "execute_result"
    },
    {
     "data": {
      "image/png": "[encoded data removed]",
      "text/plain": [
       "<Figure size 432x288 with 1 Axes>"
      ]
     },
     "metadata": {},
     "output_type": "display_data"
    },
    {
     "data": {
      "image/png": "[encoded data removed]",
      "text/plain": [
       "<Figure size 432x288 with 1 Axes>"
      ]
     },
     "metadata": {},
     "output_type": "display_data"
    }
   ],
   "source": [
    "#Displaying the curves of loss and accuracy during training\n",
    "\n",
    "acc=history.history['acc']\n",
    "val_acc=history.history['val_acc']\n",
    "loss=history.history['loss']\n",
    "val_loss=history.history['val_loss']\n",
    "\n",
    "epochs=range(1, len(acc)+1)\n",
    "plt.plot(epochs, acc, 'bo', label='Training Acc')\n",
    "plt.plot(epochs, val_acc, 'b', label='Validation Acc')\n",
    "plt.title('Training and Validation loss')\n",
    "plt.legend()\n",
    "\n",
    "plt.figure()\n",
    "plt.plot(epochs, loss, 'bo', label='Training loss')\n",
    "plt.plot(epochs, val_loss, 'b', label='Validation loss')\n",
    "plt.title('Training and validation loss')\n",
    "plt.legend()"
   ]
  },
  {
   "cell_type": "code",
   "execution_count": null,
   "metadata": {},
   "outputs": [],
   "source": [
    "\"\"\"\n",
    "\n",
    "The above Data Augmentation Techniques does reduce overfitting to a certain extent. Although the graph plateaus\n",
    "after certain time it didn't worsened.\n",
    "\n",
    "\"\"\""
   ]
  }
 ],
 "metadata": {
  "kernelspec": {
   "display_name": "Python 3",
   "language": "python",
   "name": "python3"
  },
  "language_info": {
   "codemirror_mode": {
    "name": "ipython",
    "version": 3
   },
   "file_extension": ".py",
   "mimetype": "text/x-python",
   "name": "python",
   "nbconvert_exporter": "python",
   "pygments_lexer": "ipython3",
   "version": "3.6.5"
  }
 },
 "nbformat": 4,
 "nbformat_minor": 2
}
