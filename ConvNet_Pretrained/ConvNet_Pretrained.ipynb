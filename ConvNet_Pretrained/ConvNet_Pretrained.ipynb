{
 "cells": [
  {
   "cell_type": "code",
   "execution_count": 1,
   "metadata": {},
   "outputs": [],
   "source": [
    "#Author-Vishal Burman"
   ]
  },
  {
   "cell_type": "code",
   "execution_count": 2,
   "metadata": {},
   "outputs": [
    {
     "name": "stderr",
     "output_type": "stream",
     "text": [
      "c:\\users\\vishal\\appdata\\local\\programs\\python\\python36\\lib\\site-packages\\h5py\\__init__.py:36: FutureWarning: Conversion of the second argument of issubdtype from `float` to `np.floating` is deprecated. In future, it will be treated as `np.float64 == np.dtype(float).type`.\n",
      "  from ._conv import register_converters as _register_converters\n",
      "Using TensorFlow backend.\n"
     ]
    }
   ],
   "source": [
    "#Importing the relevant libraries\n",
    "\n",
    "import os, shutil\n",
    "from keras.preprocessing.image import ImageDataGenerator\n",
    "from keras.preprocessing import image\n",
    "import matplotlib.pyplot as plt\n",
    "from keras.models import Sequential\n",
    "from keras.layers import Dense, Conv2D, MaxPooling2D, Flatten, Dropout\n",
    "from keras.optimizers import adam\n",
    "from keras.applications import VGG16"
   ]
  },
  {
   "cell_type": "code",
   "execution_count": 3,
   "metadata": {},
   "outputs": [],
   "source": [
    "#Specify the base directory\n",
    "\n",
    "base_dir=\"cats_and_dog_small/\""
   ]
  },
  {
   "cell_type": "code",
   "execution_count": 4,
   "metadata": {},
   "outputs": [],
   "source": [
    "#Specifying the Training, Validation and Test directory\n",
    "\n",
    "train_dir=os.path.join(base_dir, 'train')\n",
    "validation_dir=os.path.join(base_dir, 'valid')\n",
    "test_dir=os.path.join(base_dir, 'test')\n",
    "\n",
    "train_cats_dir=os.path.join(train_dir, 'cats')\n",
    "train_dogs_dir=os.path.join(train_dir, 'dogs')\n",
    "\n",
    "validation_cats_dir=os.path.join(validation_dir, 'cats')\n",
    "validation_dogs_dir=os.path.join(validation_dir, 'dogs')\n",
    "\n",
    "test_cats_dir=os.path.join(test_dir, 'cats')\n",
    "test_dogs_dir=os.path.join(test_dir, 'dogs')"
   ]
  },
  {
   "cell_type": "code",
   "execution_count": 5,
   "metadata": {},
   "outputs": [],
   "source": [
    "#Instantiating the VGG16 Convolution Base\n",
    "\n",
    "conv_base=VGG16(include_top=False, weights='imagenet', input_shape=(150, 150, 3))"
   ]
  },
  {
   "cell_type": "code",
   "execution_count": null,
   "metadata": {},
   "outputs": [],
   "source": [
    "\"\"\"\n",
    "\n",
    "include_top: we do not intend to include the 1000 classes of ImageNet since we are working on custom dataset\n",
    "             therefore we won't include it.\n",
    "\n",
    "weights: we import the weights of the VGG16 trained on ImageNet dataset\n",
    "\n",
    "\"\"\""
   ]
  },
  {
   "cell_type": "code",
   "execution_count": 6,
   "metadata": {},
   "outputs": [],
   "source": [
    "#Adding a densely connected classifier on top of the Convolution base\n",
    "\n",
    "model=Sequential()\n",
    "\n",
    "model.add(conv_base)\n",
    "model.add(Flatten())\n",
    "model.add(Dense(256, activation='relu'))\n",
    "model.add(Dense(1, activation='sigmoid'))"
   ]
  },
  {
   "cell_type": "code",
   "execution_count": 7,
   "metadata": {},
   "outputs": [],
   "source": [
    "#Model Summary"
   ]
  },
  {
   "cell_type": "code",
   "execution_count": 8,
   "metadata": {},
   "outputs": [
    {
     "name": "stdout",
     "output_type": "stream",
     "text": [
      "_________________________________________________________________\n",
      "Layer (type)                 Output Shape              Param #   \n",
      "=================================================================\n",
      "vgg16 (Model)                (None, 4, 4, 512)         14714688  \n",
      "_________________________________________________________________\n",
      "flatten_1 (Flatten)          (None, 8192)              0         \n",
      "_________________________________________________________________\n",
      "dense_1 (Dense)              (None, 256)               2097408   \n",
      "_________________________________________________________________\n",
      "dense_2 (Dense)              (None, 1)                 257       \n",
      "=================================================================\n",
      "Total params: 16,812,353\n",
      "Trainable params: 16,812,353\n",
      "Non-trainable params: 0\n",
      "_________________________________________________________________\n"
     ]
    }
   ],
   "source": [
    "model.summary()"
   ]
  },
  {
   "cell_type": "code",
   "execution_count": 9,
   "metadata": {},
   "outputs": [],
   "source": [
    "#Freezing the VGG16 model(This is done so that we don't lost the ImageNet weights)"
   ]
  },
  {
   "cell_type": "code",
   "execution_count": 10,
   "metadata": {},
   "outputs": [],
   "source": [
    "conv_base.trainable=False"
   ]
  },
  {
   "cell_type": "code",
   "execution_count": 11,
   "metadata": {},
   "outputs": [],
   "source": [
    "#Training the model end-to-end with a frozen convolution base"
   ]
  },
  {
   "cell_type": "code",
   "execution_count": 12,
   "metadata": {},
   "outputs": [],
   "source": [
    "#Configuring the Data Augmentation of the model"
   ]
  },
  {
   "cell_type": "code",
   "execution_count": 13,
   "metadata": {},
   "outputs": [
    {
     "name": "stdout",
     "output_type": "stream",
     "text": [
      "Found 2000 images belonging to 2 classes.\n",
      "Found 1000 images belonging to 2 classes.\n"
     ]
    }
   ],
   "source": [
    "train_datagen=ImageDataGenerator(rescale=1./255, rotation_range=40, width_shift_range=0.2, height_shift_range=0.2, shear_range=0.2, zoom_range=0.2, horizontal_flip=True, fill_mode='nearest')\n",
    "\n",
    "test_datagen=ImageDataGenerator(rescale=1./255)\n",
    "\n",
    "train_generator=train_datagen.flow_from_directory(train_dir, target_size=(150, 150), batch_size=20, class_mode='binary')\n",
    "validation_generator=test_datagen.flow_from_directory(validation_dir, target_size=(150, 150), batch_size=20, class_mode='binary')"
   ]
  },
  {
   "cell_type": "code",
   "execution_count": 14,
   "metadata": {},
   "outputs": [],
   "source": [
    "#Compiling the model\n",
    "\n",
    "model.compile(loss='binary_crossentropy', optimizer='adam', metrics=['accuracy'])"
   ]
  },
  {
   "cell_type": "code",
   "execution_count": 15,
   "metadata": {},
   "outputs": [
    {
     "name": "stdout",
     "output_type": "stream",
     "text": [
      "Epoch 1/30\n",
      "100/100 [==============================] - 22s 217ms/step - loss: 0.5545 - acc: 0.7440 - val_loss: 0.3541 - val_acc: 0.8370\n",
      "Epoch 2/30\n",
      "100/100 [==============================] - 19s 193ms/step - loss: 0.3895 - acc: 0.8245 - val_loss: 0.3053 - val_acc: 0.8570\n",
      "Epoch 3/30\n",
      "100/100 [==============================] - 19s 193ms/step - loss: 0.3669 - acc: 0.8305 - val_loss: 0.2610 - val_acc: 0.8930\n",
      "Epoch 4/30\n",
      "100/100 [==============================] - 19s 194ms/step - loss: 0.3362 - acc: 0.8490 - val_loss: 0.2856 - val_acc: 0.8820\n",
      "Epoch 5/30\n",
      "100/100 [==============================] - 19s 194ms/step - loss: 0.3352 - acc: 0.8500 - val_loss: 0.2569 - val_acc: 0.8880\n",
      "Epoch 6/30\n",
      "100/100 [==============================] - 19s 194ms/step - loss: 0.3123 - acc: 0.8690 - val_loss: 0.3175 - val_acc: 0.8520\n",
      "Epoch 7/30\n",
      "100/100 [==============================] - 19s 194ms/step - loss: 0.3097 - acc: 0.8615 - val_loss: 0.2604 - val_acc: 0.8870\n",
      "Epoch 8/30\n",
      "100/100 [==============================] - 19s 194ms/step - loss: 0.3170 - acc: 0.8630 - val_loss: 0.2555 - val_acc: 0.8920\n",
      "Epoch 9/30\n",
      "100/100 [==============================] - 19s 194ms/step - loss: 0.3009 - acc: 0.8675 - val_loss: 0.2314 - val_acc: 0.9060\n",
      "Epoch 10/30\n",
      "100/100 [==============================] - 19s 194ms/step - loss: 0.2772 - acc: 0.8855 - val_loss: 0.2405 - val_acc: 0.9010\n",
      "Epoch 11/30\n",
      "100/100 [==============================] - 19s 194ms/step - loss: 0.2931 - acc: 0.8630 - val_loss: 0.2607 - val_acc: 0.8970\n",
      "Epoch 12/30\n",
      "100/100 [==============================] - 19s 194ms/step - loss: 0.2981 - acc: 0.8700 - val_loss: 0.2361 - val_acc: 0.9000\n",
      "Epoch 13/30\n",
      "100/100 [==============================] - 19s 194ms/step - loss: 0.3043 - acc: 0.8695 - val_loss: 0.2650 - val_acc: 0.8810\n",
      "Epoch 14/30\n",
      "100/100 [==============================] - 19s 193ms/step - loss: 0.2866 - acc: 0.8750 - val_loss: 0.2361 - val_acc: 0.9040\n",
      "Epoch 15/30\n",
      "100/100 [==============================] - 19s 194ms/step - loss: 0.2671 - acc: 0.8815 - val_loss: 0.2438 - val_acc: 0.8970\n",
      "Epoch 16/30\n",
      "100/100 [==============================] - 19s 194ms/step - loss: 0.2721 - acc: 0.8785 - val_loss: 0.2688 - val_acc: 0.8960\n",
      "Epoch 17/30\n",
      "100/100 [==============================] - 19s 194ms/step - loss: 0.2859 - acc: 0.8725 - val_loss: 0.2402 - val_acc: 0.9070\n",
      "Epoch 18/30\n",
      "100/100 [==============================] - 19s 194ms/step - loss: 0.2736 - acc: 0.8750 - val_loss: 0.2342 - val_acc: 0.9010\n",
      "Epoch 19/30\n",
      "100/100 [==============================] - 19s 194ms/step - loss: 0.2752 - acc: 0.8770 - val_loss: 0.2640 - val_acc: 0.8880\n",
      "Epoch 20/30\n",
      "100/100 [==============================] - 19s 194ms/step - loss: 0.2582 - acc: 0.8880 - val_loss: 0.2747 - val_acc: 0.8900\n",
      "Epoch 21/30\n",
      "100/100 [==============================] - 19s 194ms/step - loss: 0.2633 - acc: 0.8865 - val_loss: 0.2672 - val_acc: 0.8910\n",
      "Epoch 22/30\n",
      "100/100 [==============================] - 19s 194ms/step - loss: 0.2752 - acc: 0.8885 - val_loss: 0.2991 - val_acc: 0.8830\n",
      "Epoch 23/30\n",
      "100/100 [==============================] - 19s 194ms/step - loss: 0.2617 - acc: 0.8900 - val_loss: 0.2372 - val_acc: 0.9140\n",
      "Epoch 24/30\n",
      "100/100 [==============================] - 19s 194ms/step - loss: 0.2740 - acc: 0.8835 - val_loss: 0.2412 - val_acc: 0.9030\n",
      "Epoch 25/30\n",
      "100/100 [==============================] - 19s 194ms/step - loss: 0.2587 - acc: 0.8870 - val_loss: 0.2421 - val_acc: 0.9050\n",
      "Epoch 26/30\n",
      "100/100 [==============================] - 19s 195ms/step - loss: 0.2334 - acc: 0.8995 - val_loss: 0.2513 - val_acc: 0.9020\n",
      "Epoch 27/30\n",
      "100/100 [==============================] - 19s 194ms/step - loss: 0.2327 - acc: 0.9055 - val_loss: 0.2533 - val_acc: 0.8970\n",
      "Epoch 28/30\n",
      "100/100 [==============================] - 19s 193ms/step - loss: 0.2559 - acc: 0.8930 - val_loss: 0.2540 - val_acc: 0.8930\n",
      "Epoch 29/30\n",
      "100/100 [==============================] - 19s 193ms/step - loss: 0.2458 - acc: 0.8935 - val_loss: 0.2483 - val_acc: 0.9060\n",
      "Epoch 30/30\n",
      "100/100 [==============================] - 20s 195ms/step - loss: 0.2492 - acc: 0.8990 - val_loss: 0.2485 - val_acc: 0.9020\n"
     ]
    }
   ],
   "source": [
    "#Fitting the model\n",
    "\n",
    "history=model.fit_generator(train_generator, steps_per_epoch=100, epochs=30, validation_data=validation_generator, validation_steps=50, workers=8)"
   ]
  },
  {
   "cell_type": "code",
   "execution_count": 17,
   "metadata": {},
   "outputs": [
    {
     "data": {
      "text/plain": [
       "<matplotlib.legend.Legend at 0x208a7615cc0>"
      ]
     },
     "execution_count": 17,
     "metadata": {},
     "output_type": "execute_result"
    },
    {
     "data": {
      "image/png": "[encoded data removed]",
      "text/plain": [
       "<Figure size 432x288 with 1 Axes>"
      ]
     },
     "metadata": {},
     "output_type": "display_data"
    },
    {
     "data": {
      "image/png": "[encoded data removed]",
      "text/plain": [
       "<Figure size 432x288 with 1 Axes>"
      ]
     },
     "metadata": {},
     "output_type": "display_data"
    }
   ],
   "source": [
    "#Displaying the curves of loss and accuracy during training\n",
    "\n",
    "acc=history.history['acc']\n",
    "val_acc=history.history['val_acc']\n",
    "loss=history.history['loss']\n",
    "val_loss=history.history['val_loss']\n",
    "\n",
    "epochs=range(1, len(acc)+1)\n",
    "plt.plot(epochs, acc, 'bo', label='Training Acc')\n",
    "plt.plot(epochs, val_acc, 'b', label='Validation Acc')\n",
    "plt.title('Training and Validation Accuracy')\n",
    "plt.legend()\n",
    "\n",
    "plt.figure()\n",
    "plt.plot(epochs, loss, 'bo', label='Training loss')\n",
    "plt.plot(epochs, val_loss, 'b', label='Validation loss')\n",
    "plt.title('Training and validation Loss')\n",
    "plt.legend()"
   ]
  },
  {
   "cell_type": "code",
   "execution_count": null,
   "metadata": {},
   "outputs": [],
   "source": [
    "\"\"\"\n",
    "\n",
    "The training and validation on our small dataset proved to much more efficient and with less epochs when we\n",
    "use a predefined Convolution Network like VGG16.\n",
    "\n",
    "\"\"\""
   ]
  }
 ],
 "metadata": {
  "kernelspec": {
   "display_name": "Python 3",
   "language": "python",
   "name": "python3"
  },
  "language_info": {
   "codemirror_mode": {
    "name": "ipython",
    "version": 3
   },
   "file_extension": ".py",
   "mimetype": "text/x-python",
   "name": "python",
   "nbconvert_exporter": "python",
   "pygments_lexer": "ipython3",
   "version": "3.6.5"
  }
 },
 "nbformat": 4,
 "nbformat_minor": 2
}
