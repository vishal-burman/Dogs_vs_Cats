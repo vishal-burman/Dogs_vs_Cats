{
 "cells": [
  {
   "cell_type": "code",
   "execution_count": null,
   "metadata": {},
   "outputs": [],
   "source": [
    "#Author-Vishal Burman"
   ]
  },
  {
   "cell_type": "code",
   "execution_count": 49,
   "metadata": {},
   "outputs": [],
   "source": [
    "#Importing the relevant datasets\n",
    "\n",
    "import os, shutil\n",
    "from keras.models import Sequential\n",
    "from keras.layers import Dense, MaxPooling2D, Flatten, Conv2D\n",
    "from keras import optimizers\n",
    "from keras.preprocessing.image import ImageDataGenerator\n",
    "import matplotlib.pyplot as plt"
   ]
  },
  {
   "cell_type": "code",
   "execution_count": 26,
   "metadata": {},
   "outputs": [],
   "source": [
    "#Path to the directory where the original dataset was uncompressed\n",
    "\n",
    "original_dataset_dir=\"original_dataset/train\""
   ]
  },
  {
   "cell_type": "code",
   "execution_count": 5,
   "metadata": {},
   "outputs": [],
   "source": [
    "#Directory where we will store the smaller dataset\n",
    "\n",
    "base_dir='cats_and_dog_small'\n",
    "\n",
    "os.mkdir(base_dir)"
   ]
  },
  {
   "cell_type": "code",
   "execution_count": 8,
   "metadata": {},
   "outputs": [],
   "source": [
    "#Directories for the training, validation and test splits\n",
    "\n",
    "train_dir=os.path.join(base_dir, 'train')\n",
    "os.mkdir(train_dir)\n",
    "\n",
    "validation_dir=os.path.join(base_dir, 'valid')\n",
    "os.mkdir(validation_dir)\n",
    "\n",
    "test_dir=os.path.join(base_dir, 'test')\n",
    "os.mkdir(test_dir)"
   ]
  },
  {
   "cell_type": "code",
   "execution_count": 10,
   "metadata": {},
   "outputs": [],
   "source": [
    "#Directory with Training cat pictures\n",
    "\n",
    "train_cats_dir=os.path.join(train_dir, 'cats')\n",
    "os.mkdir(train_cats_dir)\n",
    "\n",
    "#Directory with Training dog pictures\n",
    "\n",
    "train_dogs_dir=os.path.join(train_dir, 'dogs')\n",
    "os.mkdir(train_dogs_dir)\n",
    "\n",
    "#Directory with Validation cats pictures\n",
    "\n",
    "validation_cats_dir=os.path.join(validation_dir, 'cats')\n",
    "os.mkdir(validation_cats_dir)\n",
    "\n",
    "#Directory with Validation dogs pictures\n",
    "\n",
    "validation_dogs_dir=os.path.join(validation_dir, 'dogs')\n",
    "os.mkdir(validation_dogs_dir)\n",
    "\n",
    "#Directory with Test cat pictures\n",
    "\n",
    "test_cats_dir=os.path.join(test_dir, 'cats')\n",
    "os.mkdir(test_cats_dir)\n",
    "\n",
    "#Directory with Test dog pictures\n",
    "\n",
    "test_dogs_dir=os.path.join(test_dir, 'dogs')\n",
    "os.mkdir(test_dogs_dir)"
   ]
  },
  {
   "cell_type": "code",
   "execution_count": 27,
   "metadata": {},
   "outputs": [],
   "source": [
    "#Copies the first 1000 cat images to train_cats_dir\n",
    "\n",
    "fnames=['cat.{}.jpg'.format(i) for i in range(1000)]\n",
    "for fname in fnames:\n",
    "    src=os.path.join(original_dataset_dir, fname)\n",
    "    dst=os.path.join(train_cats_dir, fname)\n",
    "    shutil.copyfile(src, dst)\n",
    "\n",
    "#Copies the next 500 images to validation_cats_dir\n",
    "\n",
    "fnames=['cat.{}.jpg'.format(i) for i in range(1000, 1500)]\n",
    "for fname in fnames:\n",
    "    src=os.path.join(original_dataset_dir, fname)\n",
    "    dst=os.path.join(validation_cats_dir, fname)\n",
    "    shutil.copyfile(src, dst)\n",
    "\n",
    "#Copies the next 500 images to test_cats_dir\n",
    "\n",
    "fnames=['cat.{}.jpg'.format(i) for i in range(1500, 2000)]\n",
    "for fname in fnames:\n",
    "    src=os.path.join(original_dataset_dir, fname)\n",
    "    dst=os.path.join(test_cats_dir, fname)\n",
    "    shutil.copyfile(src, dst)"
   ]
  },
  {
   "cell_type": "code",
   "execution_count": 31,
   "metadata": {},
   "outputs": [],
   "source": [
    "#Copies the first 1000 images to train_dogs_dir\n",
    "\n",
    "fnames=['dog.{}.jpg'.format(i) for i in range(1000)]\n",
    "for fname in fnames:\n",
    "    src=os.path.join(original_dataset_dir, fname)\n",
    "    dst=os.path.join(train_dogs_dir, fname)\n",
    "    shutil.copyfile(src, dst)\n",
    "\n",
    "#Copies the next 500 images to validation_dogs_dir\n",
    "\n",
    "fnames=['dog.{}.jpg'.format(i) for i in range(1000, 1500)]\n",
    "for fname in fnames:\n",
    "    src=os.path.join(original_dataset_dir, fname)\n",
    "    dst=os.path.join(validation_dogs_dir, fname)\n",
    "    shutil.copyfile(src, dst)\n",
    "\n",
    "#Copies the next 500 images to the test_dogs_dir\n",
    "\n",
    "fnames=['dog.{}.jpg'.format(i) for i in range(1500, 2000)]\n",
    "for fname in fnames:\n",
    "    src=os.path.join(original_dataset_dir, fname)\n",
    "    dst=os.path.join(test_dogs_dir, fname)\n",
    "    shutil.copyfile(src, dst)"
   ]
  },
  {
   "cell_type": "code",
   "execution_count": null,
   "metadata": {},
   "outputs": [],
   "source": [
    "\"\"\"\n",
    "\n",
    "Instantiating a small ConvNet for DogsVsCats classification\n",
    "\n",
    "\"\"\""
   ]
  },
  {
   "cell_type": "code",
   "execution_count": 37,
   "metadata": {},
   "outputs": [],
   "source": [
    "model=Sequential()\n",
    "model.add(Conv2D(32, (3, 3), activation='relu', input_shape=(150, 150, 3)))\n",
    "model.add(MaxPooling2D((2, 2)))\n",
    "model.add(Conv2D(64, (3, 3),activation='relu'))\n",
    "model.add(MaxPooling2D((2, 2)))\n",
    "model.add(Conv2D(128, (3, 3), activation='relu'))\n",
    "model.add(MaxPooling2D((2, 2)))\n",
    "model.add(Conv2D(128, (3, 3), activation='relu'))\n",
    "model.add(MaxPooling2D((2, 2)))\n",
    "model.add(Flatten())\n",
    "model.add(Dense(512, activation='relu'))\n",
    "model.add(Dense(1, activation='sigmoid'))"
   ]
  },
  {
   "cell_type": "code",
   "execution_count": 39,
   "metadata": {},
   "outputs": [
    {
     "name": "stdout",
     "output_type": "stream",
     "text": [
      "_________________________________________________________________\n",
      "Layer (type)                 Output Shape              Param #   \n",
      "=================================================================\n",
      "conv2d_1 (Conv2D)            (None, 148, 148, 32)      896       \n",
      "_________________________________________________________________\n",
      "max_pooling2d_1 (MaxPooling2 (None, 74, 74, 32)        0         \n",
      "_________________________________________________________________\n",
      "conv2d_2 (Conv2D)            (None, 72, 72, 64)        18496     \n",
      "_________________________________________________________________\n",
      "max_pooling2d_2 (MaxPooling2 (None, 36, 36, 64)        0         \n",
      "_________________________________________________________________\n",
      "conv2d_3 (Conv2D)            (None, 34, 34, 128)       73856     \n",
      "_________________________________________________________________\n",
      "max_pooling2d_3 (MaxPooling2 (None, 17, 17, 128)       0         \n",
      "_________________________________________________________________\n",
      "conv2d_4 (Conv2D)            (None, 15, 15, 128)       147584    \n",
      "_________________________________________________________________\n",
      "max_pooling2d_4 (MaxPooling2 (None, 7, 7, 128)         0         \n",
      "_________________________________________________________________\n",
      "flatten_1 (Flatten)          (None, 6272)              0         \n",
      "_________________________________________________________________\n",
      "dense_1 (Dense)              (None, 512)               3211776   \n",
      "_________________________________________________________________\n",
      "dense_2 (Dense)              (None, 1)                 513       \n",
      "=================================================================\n",
      "Total params: 3,453,121\n",
      "Trainable params: 3,453,121\n",
      "Non-trainable params: 0\n",
      "_________________________________________________________________\n"
     ]
    }
   ],
   "source": [
    "#Dimensions of the feature maps\n",
    "\n",
    "model.summary()"
   ]
  },
  {
   "cell_type": "code",
   "execution_count": 42,
   "metadata": {},
   "outputs": [],
   "source": [
    "#Configuring the model for training\n",
    "\n",
    "model.compile(loss='binary_crossentropy', optimizer=optimizers.adam(), metrics=['accuracy'])"
   ]
  },
  {
   "cell_type": "code",
   "execution_count": 46,
   "metadata": {},
   "outputs": [
    {
     "name": "stdout",
     "output_type": "stream",
     "text": [
      "Found 2000 images belonging to 2 classes.\n",
      "Found 1000 images belonging to 2 classes.\n"
     ]
    }
   ],
   "source": [
    "#Using ImageDataGenerator to read images from directories\n",
    "\n",
    "#Rescale all images by 1/255\n",
    "train_datagen=ImageDataGenerator(rescale=1./255)\n",
    "test_datagen=ImageDataGenerator(1./255)\n",
    "\n",
    "train_generator=train_datagen.flow_from_directory(train_dir, target_size=(150, 150), batch_size=20, class_mode='binary')\n",
    "validation_generator=test_datagen.flow_from_directory(validation_dir, target_size=(150, 150), batch_size=20, class_mode='binary')"
   ]
  },
  {
   "cell_type": "code",
   "execution_count": 47,
   "metadata": {},
   "outputs": [
    {
     "name": "stdout",
     "output_type": "stream",
     "text": [
      "Epoch 1/30\n",
      " 99/100 [============================>.] - ETA: 0s - loss: 0.6969 - acc: 0.5066"
     ]
    },
    {
     "name": "stderr",
     "output_type": "stream",
     "text": [
      "c:\\users\\vishal\\appdata\\local\\programs\\python\\python36\\lib\\site-packages\\keras\\preprocessing\\image.py:799: UserWarning: This ImageDataGenerator specifies `featurewise_center`, but it hasn't been fit on any training data. Fit it first by calling `.fit(numpy_data)`.\n",
      "  warnings.warn('This ImageDataGenerator specifies '\n"
     ]
    },
    {
     "name": "stdout",
     "output_type": "stream",
     "text": [
      "100/100 [==============================] - 11s 109ms/step - loss: 0.6968 - acc: 0.5075 - val_loss: 6.7581 - val_acc: 0.5000\n",
      "Epoch 2/30\n",
      "100/100 [==============================] - 5s 52ms/step - loss: 0.6971 - acc: 0.5370 - val_loss: 7.9518 - val_acc: 0.5000\n",
      "Epoch 3/30\n",
      "100/100 [==============================] - 5s 52ms/step - loss: 0.6942 - acc: 0.4980 - val_loss: 2.9261 - val_acc: 0.5000\n",
      "Epoch 4/30\n",
      "100/100 [==============================] - 5s 52ms/step - loss: 0.6945 - acc: 0.4900 - val_loss: 0.7807 - val_acc: 0.5340\n",
      "Epoch 5/30\n",
      "100/100 [==============================] - 5s 52ms/step - loss: 0.6892 - acc: 0.5230 - val_loss: 1.5342 - val_acc: 0.5300\n",
      "Epoch 6/30\n",
      "100/100 [==============================] - 5s 52ms/step - loss: 0.6802 - acc: 0.5475 - val_loss: 1.4556 - val_acc: 0.5020\n",
      "Epoch 7/30\n",
      "100/100 [==============================] - 5s 52ms/step - loss: 0.6846 - acc: 0.5280 - val_loss: 1.6261 - val_acc: 0.5140\n",
      "Epoch 8/30\n",
      "100/100 [==============================] - 5s 53ms/step - loss: 0.6707 - acc: 0.5760 - val_loss: 6.4890 - val_acc: 0.5600\n",
      "Epoch 9/30\n",
      "100/100 [==============================] - 5s 52ms/step - loss: 0.6476 - acc: 0.6155 - val_loss: 5.5284 - val_acc: 0.5790\n",
      "Epoch 10/30\n",
      "100/100 [==============================] - 5s 52ms/step - loss: 0.6217 - acc: 0.6570 - val_loss: 6.3254 - val_acc: 0.5790\n",
      "Epoch 11/30\n",
      "100/100 [==============================] - 5s 52ms/step - loss: 0.5796 - acc: 0.6930 - val_loss: 5.9100 - val_acc: 0.5840\n",
      "Epoch 12/30\n",
      "100/100 [==============================] - 5s 52ms/step - loss: 0.5442 - acc: 0.7015 - val_loss: 6.3177 - val_acc: 0.5860\n",
      "Epoch 13/30\n",
      "100/100 [==============================] - 5s 53ms/step - loss: 0.4590 - acc: 0.7625 - val_loss: 5.9847 - val_acc: 0.6120\n",
      "Epoch 14/30\n",
      "100/100 [==============================] - 5s 52ms/step - loss: 0.3778 - acc: 0.8120 - val_loss: 6.2902 - val_acc: 0.5950\n",
      "Epoch 15/30\n",
      "100/100 [==============================] - 5s 52ms/step - loss: 0.3066 - acc: 0.8660 - val_loss: 6.3460 - val_acc: 0.5890\n",
      "Epoch 16/30\n",
      "100/100 [==============================] - 5s 52ms/step - loss: 0.2286 - acc: 0.9005 - val_loss: 6.4145 - val_acc: 0.5930\n",
      "Epoch 17/30\n",
      "100/100 [==============================] - 5s 52ms/step - loss: 0.1765 - acc: 0.9355 - val_loss: 6.5219 - val_acc: 0.5900\n",
      "Epoch 18/30\n",
      "100/100 [==============================] - 5s 53ms/step - loss: 0.0882 - acc: 0.9640 - val_loss: 6.4045 - val_acc: 0.5980\n",
      "Epoch 19/30\n",
      "100/100 [==============================] - 5s 54ms/step - loss: 0.0622 - acc: 0.9790 - val_loss: 6.6739 - val_acc: 0.5810\n",
      "Epoch 20/30\n",
      "100/100 [==============================] - 5s 53ms/step - loss: 0.0331 - acc: 0.9925 - val_loss: 6.4299 - val_acc: 0.5980\n",
      "Epoch 21/30\n",
      "100/100 [==============================] - 5s 52ms/step - loss: 0.0206 - acc: 0.9945 - val_loss: 6.7466 - val_acc: 0.5790\n",
      "Epoch 22/30\n",
      "100/100 [==============================] - 5s 53ms/step - loss: 0.0270 - acc: 0.9920 - val_loss: 6.3242 - val_acc: 0.6010\n",
      "Epoch 23/30\n",
      "100/100 [==============================] - 5s 53ms/step - loss: 0.0470 - acc: 0.9860 - val_loss: 6.5405 - val_acc: 0.5890\n",
      "Epoch 24/30\n",
      "100/100 [==============================] - 5s 53ms/step - loss: 0.1095 - acc: 0.9705 - val_loss: 6.2852 - val_acc: 0.6060\n",
      "Epoch 25/30\n",
      "100/100 [==============================] - 5s 53ms/step - loss: 0.0241 - acc: 0.9955 - val_loss: 6.4336 - val_acc: 0.5970\n",
      "Epoch 26/30\n",
      "100/100 [==============================] - 5s 53ms/step - loss: 0.0041 - acc: 1.0000 - val_loss: 6.5711 - val_acc: 0.5870\n",
      "Epoch 27/30\n",
      "100/100 [==============================] - 5s 53ms/step - loss: 0.0012 - acc: 1.0000 - val_loss: 6.5853 - val_acc: 0.5870\n",
      "Epoch 28/30\n",
      "100/100 [==============================] - 5s 52ms/step - loss: 6.6640e-04 - acc: 1.0000 - val_loss: 6.5446 - val_acc: 0.5890\n",
      "Epoch 29/30\n",
      "100/100 [==============================] - 5s 53ms/step - loss: 4.6255e-04 - acc: 1.0000 - val_loss: 6.5328 - val_acc: 0.5910\n",
      "Epoch 30/30\n",
      "100/100 [==============================] - 5s 52ms/step - loss: 3.4231e-04 - acc: 1.0000 - val_loss: 6.5011 - val_acc: 0.5920\n"
     ]
    }
   ],
   "source": [
    "#Fitting the model using a batch generator\n",
    "\n",
    "history=model.fit_generator(train_generator, steps_per_epoch=100, epochs=30, validation_data=validation_generator, validation_steps=50, workers=8)"
   ]
  },
  {
   "cell_type": "code",
   "execution_count": 48,
   "metadata": {},
   "outputs": [],
   "source": [
    "#Saving the model\n",
    "\n",
    "model.save('CatsVsDogs_ConvNet_Scratch.h5')"
   ]
  },
  {
   "cell_type": "code",
   "execution_count": 53,
   "metadata": {},
   "outputs": [
    {
     "data": {
      "text/plain": [
       "<matplotlib.legend.Legend at 0x1d8940445f8>"
      ]
     },
     "execution_count": 53,
     "metadata": {},
     "output_type": "execute_result"
    },
    {
     "data": {
      "image/png": "[encoded data removed]",
      "text/plain": [
       "<Figure size 432x288 with 1 Axes>"
      ]
     },
     "metadata": {},
     "output_type": "display_data"
    },
    {
     "data": {
      "image/png": "[encoded data removed]",
      "text/plain": [
       "<Figure size 432x288 with 1 Axes>"
      ]
     },
     "metadata": {},
     "output_type": "display_data"
    }
   ],
   "source": [
    "#Displaying the curves of loss and accuracy during training\n",
    "\n",
    "acc=history.history['acc']\n",
    "val_acc=history.history['val_acc']\n",
    "loss=history.history['loss']\n",
    "val_loss=history.history['val_loss']\n",
    "\n",
    "epochs=range(1, len(acc)+1)\n",
    "plt.plot(epochs, acc, 'bo', label='Training Acc')\n",
    "plt.plot(epochs, val_acc, 'b', label='Validation Acc')\n",
    "plt.title('Training and Validation loss')\n",
    "plt.legend()\n",
    "\n",
    "plt.figure()\n",
    "plt.plot(epochs, loss, 'bo', label='Training loss')\n",
    "plt.plot(epochs, val_loss, 'b', label='Validation loss')\n",
    "plt.title('Training and validation loss')\n",
    "plt.legend()"
   ]
  },
  {
   "cell_type": "code",
   "execution_count": null,
   "metadata": {},
   "outputs": [],
   "source": [
    "\"\"\"\n",
    "\n",
    "The graph of the model above shows that its a highly overfitting model.\n",
    "\n",
    "\"\"\""
   ]
  }
 ],
 "metadata": {
  "kernelspec": {
   "display_name": "Python 3",
   "language": "python",
   "name": "python3"
  },
  "language_info": {
   "codemirror_mode": {
    "name": "ipython",
    "version": 3
   },
   "file_extension": ".py",
   "mimetype": "text/x-python",
   "name": "python",
   "nbconvert_exporter": "python",
   "pygments_lexer": "ipython3",
   "version": "3.6.5"
  }
 },
 "nbformat": 4,
 "nbformat_minor": 2
}
